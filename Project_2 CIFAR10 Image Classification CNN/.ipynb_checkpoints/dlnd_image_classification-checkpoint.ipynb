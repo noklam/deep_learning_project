{
 "cells": [
  {
   "cell_type": "markdown",
   "metadata": {
    "collapsed": true,
    "deletable": true,
    "editable": true
   },
   "source": [
    "# Image Classification\n",
    "In this project, you'll classify images from the [CIFAR-10 dataset](https://www.cs.toronto.edu/~kriz/cifar.html).  The dataset consists of airplanes, dogs, cats, and other objects. You'll preprocess the images, then train a convolutional neural network on all the samples. The images need to be normalized and the labels need to be one-hot encoded.  You'll get to apply what you learned and build a convolutional, max pooling, dropout, and fully connected layers.  At the end, you'll get to see your neural network's predictions on the sample images.\n",
    "## Get the Data\n",
    "Run the following cell to download the [CIFAR-10 dataset for python](https://www.cs.toronto.edu/~kriz/cifar-10-python.tar.gz)."
   ]
  },
  {
   "cell_type": "code",
   "execution_count": 3,
   "metadata": {
    "collapsed": false,
    "deletable": true,
    "editable": true
   },
   "outputs": [
    {
     "name": "stdout",
     "output_type": "stream",
     "text": [
      "Requirement already satisfied: tqdm in c:\\programdata\\anaconda3\\envs\\tensorflow\\lib\\site-packages\n",
      "All files found!\n"
     ]
    }
   ],
   "source": [
    "\"\"\"\n",
    "DON'T MODIFY ANYTHING IN THIS CELL THAT IS BELOW THIS LINE\n",
    "\"\"\"\n",
    "!pip install tqdm\n",
    "from urllib.request import urlretrieve\n",
    "from os.path import isfile, isdir\n",
    "from tqdm import tqdm\n",
    "import problem_unittests as tests\n",
    "import tarfile\n",
    "\n",
    "cifar10_dataset_folder_path = 'cifar-10-batches-py'\n",
    "\n",
    "# Use Floyd's cifar-10 dataset if present\n",
    "floyd_cifar10_location = '/input/cifar-10/python.tar.gz'\n",
    "if isfile(floyd_cifar10_location):\n",
    "    tar_gz_path = floyd_cifar10_location\n",
    "else:\n",
    "    tar_gz_path = 'cifar-10-python.tar.gz'\n",
    "\n",
    "class DLProgress(tqdm):\n",
    "    last_block = 0\n",
    "\n",
    "    def hook(self, block_num=1, block_size=1, total_size=None):\n",
    "        self.total = total_size\n",
    "        self.update((block_num - self.last_block) * block_size)\n",
    "        self.last_block = block_num\n",
    "\n",
    "if not isfile(tar_gz_path):\n",
    "    with DLProgress(unit='B', unit_scale=True, miniters=1, desc='CIFAR-10 Dataset') as pbar:\n",
    "        urlretrieve(\n",
    "            'https://www.cs.toronto.edu/~kriz/cifar-10-python.tar.gz',\n",
    "            tar_gz_path,\n",
    "            pbar.hook)\n",
    "\n",
    "if not isdir(cifar10_dataset_folder_path):\n",
    "    with tarfile.open(tar_gz_path) as tar:\n",
    "        tar.extractall()\n",
    "        tar.close()\n",
    "\n",
    "\n",
    "tests.test_folder_path(cifar10_dataset_folder_path)"
   ]
  },
  {
   "cell_type": "markdown",
   "metadata": {
    "deletable": true,
    "editable": true
   },
   "source": [
    "## Explore the Data\n",
    "The dataset is broken into batches to prevent your machine from running out of memory.  The CIFAR-10 dataset consists of 5 batches, named `data_batch_1`, `data_batch_2`, etc.. Each batch contains the labels and images that are one of the following:\n",
    "* airplane\n",
    "* automobile\n",
    "* bird\n",
    "* cat\n",
    "* deer\n",
    "* dog\n",
    "* frog\n",
    "* horse\n",
    "* ship\n",
    "* truck\n",
    "\n",
    "Understanding a dataset is part of making predictions on the data.  Play around with the code cell below by changing the `batch_id` and `sample_id`. The `batch_id` is the id for a batch (1-5). The `sample_id` is the id for a image and label pair in the batch.\n",
    "\n",
    "Ask yourself \"What are all possible labels?\", \"What is the range of values for the image data?\", \"Are the labels in order or random?\".  Answers to questions like these will help you preprocess the data and end up with better predictions."
   ]
  },
  {
   "cell_type": "code",
   "execution_count": 4,
   "metadata": {
    "collapsed": false,
    "deletable": true,
    "editable": true
   },
   "outputs": [
    {
     "name": "stdout",
     "output_type": "stream",
     "text": [
      "\n",
      "Stats of batch 1:\n",
      "Samples: 10000\n",
      "Label Counts: {0: 1005, 1: 974, 2: 1032, 3: 1016, 4: 999, 5: 937, 6: 1030, 7: 1001, 8: 1025, 9: 981}\n",
      "First 20 Labels: [6, 9, 9, 4, 1, 1, 2, 7, 8, 3, 4, 7, 7, 2, 9, 9, 9, 3, 2, 6]\n",
      "\n",
      "Example of Image 10:\n",
      "Image - Min Value: 24 Max Value: 130\n",
      "Image - Shape: (32, 32, 3)\n",
      "Label - Label Id: 4 Name: deer\n"
     ]
    },
    {
     "data": {
      "text/plain": [
       "'batch_id = 2\\nsample_id = 1\\nhelper.display_stats(cifar10_dataset_folder_path, batch_id, sample_id)'"
      ]
     },
     "execution_count": 4,
     "metadata": {},
     "output_type": "execute_result"
    },
    {
     "data": {
      "image/png": "[encoded data removed]",
      "text/plain": [
       "<matplotlib.figure.Figure at 0x253ec664b00>"
      ]
     },
     "metadata": {
      "image/png": {
       "height": 250,
       "width": 253
      }
     },
     "output_type": "display_data"
    }
   ],
   "source": [
    "%matplotlib inline\n",
    "%config InlineBackend.figure_format = 'retina'\n",
    "\n",
    "import helper\n",
    "import numpy as np\n",
    "\n",
    "# Explore the dataset\n",
    "batch_id = 1\n",
    "sample_id = 10\n",
    "helper.display_stats(cifar10_dataset_folder_path, batch_id, sample_id)\n",
    "\n",
    "'''batch_id = 2\n",
    "sample_id = 1\n",
    "helper.display_stats(cifar10_dataset_folder_path, batch_id, sample_id)'''"
   ]
  },
  {
   "cell_type": "markdown",
   "metadata": {
    "deletable": true,
    "editable": true
   },
   "source": [
    "## Implement Preprocess Functions\n",
    "### Normalize\n",
    "In the cell below, implement the `normalize` function to take in image data, `x`, and return it as a normalized Numpy array. The values should be in the range of 0 to 1, inclusive.  The return object should be the same shape as `x`."
   ]
  },
  {
   "cell_type": "code",
   "execution_count": 5,
   "metadata": {
    "collapsed": false,
    "deletable": true,
    "editable": true
   },
   "outputs": [
    {
     "name": "stdout",
     "output_type": "stream",
     "text": [
      "(670, 32, 32, 3)\n",
      "Tests Passed\n"
     ]
    }
   ],
   "source": [
    "def normalize(x):\n",
    "    \"\"\"\n",
    "    Normalize a list of sample image data in the range of 0 to 1\n",
    "    : x: List of image data.  The image shape is (32, 32, 3)\n",
    "    : return: Numpy array of normalize data\n",
    "    \"\"\"\n",
    "    # TODO: Implement Function\n",
    "    \n",
    "    ## Maximum and minimum are 255 and 0 since it is 8 bit images\n",
    "    ## Max_min normalization: z(i) = ( x(i) - min(i) ) / ( x_max - x_min ) = x(i) / 255\n",
    "    x_max, xmin = 255, 0\n",
    "    \n",
    "    new_x =np.zeros(x.shape)\n",
    "    \n",
    "    print(x.shape)\n",
    "    ## Normalization in each color channel\n",
    "    for image_i in range(x.shape[0]):\n",
    "        new_x[image_i] = x[image_i]/255\n",
    "        \n",
    " \n",
    "10\n",
    "            \n",
    "        \n",
    "\n",
    "    return new_x\n",
    "\n",
    "\n",
    "\"\"\"\n",
    "DON'T MODIFY ANYTHING IN THIS CELL THAT IS BELOW THIS LINE\n",
    "\"\"\"\n",
    "tests.test_normalize(normalize)"
   ]
  },
  {
   "cell_type": "markdown",
   "metadata": {
    "deletable": true,
    "editable": true
   },
   "source": [
    "### One-hot encode\n",
    "Just like the previous code cell, you'll be implementing a function for preprocessing.  This time, you'll implement the `one_hot_encode` function. The input, `x`, are a list of labels.  Implement the function to return the list of labels as One-Hot encoded Numpy array.  The possible values for labels are 0 to 9. The one-hot encoding function should return the same encoding for each value between each call to `one_hot_encode`.  Make sure to save the map of encodings outside the function.\n",
    "\n",
    "Hint: Don't reinvent the wheel."
   ]
  },
  {
   "cell_type": "code",
   "execution_count": 6,
   "metadata": {
    "collapsed": false,
    "deletable": true,
    "editable": true
   },
   "outputs": [
    {
     "name": "stdout",
     "output_type": "stream",
     "text": [
      "Tests Passed\n"
     ]
    }
   ],
   "source": [
    "encode_map = {}\n",
    "\n",
    "for i in range(10):\n",
    "    encode_map[i]= np.zeros(10)\n",
    "    encode_map[i][i] = 1\n",
    "    \n",
    "\n",
    "\n",
    "\n",
    "def one_hot_encode(x):\n",
    "    \"\"\"\n",
    "    One hot encode a list of sample labels. Return a one-hot encoded vector for each label.\n",
    "    : x: List of sample Labels\n",
    "    : return: Numpy array of one-hot encoded labels\n",
    "\n",
    "    \"\"\"\n",
    "    x_list = []\n",
    "    \n",
    "\n",
    "\n",
    "    for i, xi in enumerate(x):\n",
    "        x_list.append(encode_map[xi])\n",
    "        \n",
    "    \n",
    "    x_array = np.array(x_list)\n",
    "    return x_array\n",
    "\n",
    "\n",
    "\"\"\"\n",
    "DON'T MODIFY ANYTHING IN THIS CELL THAT IS BELOW THIS LINE\n",
    "\"\"\"\n",
    "tests.test_one_hot_encode(one_hot_encode)"
   ]
  },
  {
   "cell_type": "code",
   "execution_count": null,
   "metadata": {
    "collapsed": false,
    "deletable": true,
    "editable": true
   },
   "outputs": [],
   "source": []
  },
  {
   "cell_type": "markdown",
   "metadata": {
    "deletable": true,
    "editable": true
   },
   "source": [
    "### Randomize Data\n",
    "As you saw from exploring the data above, the order of the samples are randomized.  It doesn't hurt to randomize it again, but you don't need to for this dataset."
   ]
  },
  {
   "cell_type": "markdown",
   "metadata": {
    "deletable": true,
    "editable": true
   },
   "source": [
    "## Preprocess all the data and save it\n",
    "Running the code cell below will preprocess all the CIFAR-10 data and save it to file. The code below also uses 10% of the training data for validation."
   ]
  },
  {
   "cell_type": "code",
   "execution_count": 198,
   "metadata": {
    "collapsed": false,
    "deletable": true,
    "editable": true
   },
   "outputs": [
    {
     "name": "stdout",
     "output_type": "stream",
     "text": [
      "(9000, 32, 32, 3)\n",
      "(9000, 32, 32, 3)\n",
      "(9000, 32, 32, 3)\n",
      "(9000, 32, 32, 3)\n",
      "(9000, 32, 32, 3)\n",
      "(5000, 32, 32, 3)\n",
      "(10000, 32, 32, 3)\n"
     ]
    }
   ],
   "source": [
    "\"\"\"\n",
    "DON'T MODIFY ANYTHING IN THIS CELL\n",
    "\"\"\"\n",
    "# Preprocess Training, Validation, and Testing Data\n",
    "helper.preprocess_and_save_data(cifar10_dataset_folder_path, normalize, one_hot_encode)"
   ]
  },
  {
   "cell_type": "markdown",
   "metadata": {
    "deletable": true,
    "editable": true
   },
   "source": [
    "# Check Point\n",
    "This is your first checkpoint.  If you ever decide to come back to this notebook or have to restart the notebook, you can start from here.  The preprocessed data has been saved to disk."
   ]
  },
  {
   "cell_type": "code",
   "execution_count": 199,
   "metadata": {
    "collapsed": false,
    "deletable": true,
    "editable": true
   },
   "outputs": [],
   "source": [
    "\"\"\"\n",
    "DON'T MODIFY ANYTHING IN THIS CELL\n",
    "\"\"\"\n",
    "import pickle\n",
    "import problem_unittests as tests\n",
    "import helper\n",
    "\n",
    "# Load the Preprocessed Validation data\n",
    "valid_features, valid_labels = pickle.load(open('preprocess_validation.p', mode='rb'))"
   ]
  },
  {
   "cell_type": "markdown",
   "metadata": {
    "deletable": true,
    "editable": true
   },
   "source": [
    "## Build the network\n",
    "For the neural network, you'll build each layer into a function.  Most of the code you've seen has been outside of functions. To test your code more thoroughly, we require that you put each layer in a function.  This allows us to give you better feedback and test for simple mistakes using our unittests before you submit your project.\n",
    "\n",
    ">**Note:** If you're finding it hard to dedicate enough time for this course each week, we've provided a small shortcut to this part of the project. In the next couple of problems, you'll have the option to use classes from the [TensorFlow Layers](https://www.tensorflow.org/api_docs/python/tf/layers) or [TensorFlow Layers (contrib)](https://www.tensorflow.org/api_guides/python/contrib.layers) packages to build each layer, except the layers you build in the \"Convolutional and Max Pooling Layer\" section.  TF Layers is similar to Keras's and TFLearn's abstraction to layers, so it's easy to pickup.\n",
    "\n",
    ">However, if you would like to get the most out of this course, try to solve all the problems _without_ using anything from the TF Layers packages. You **can** still use classes from other packages that happen to have the same name as ones you find in TF Layers! For example, instead of using the TF Layers version of the `conv2d` class, [tf.layers.conv2d](https://www.tensorflow.org/api_docs/python/tf/layers/conv2d), you would want to use the TF Neural Network version of `conv2d`, [tf.nn.conv2d](https://www.tensorflow.org/api_docs/python/tf/nn/conv2d). \n",
    "\n",
    "Let's begin!\n",
    "\n",
    "### Input\n",
    "The neural network needs to read the image data, one-hot encoded labels, and dropout keep probability. Implement the following functions\n",
    "* Implement `neural_net_image_input`\n",
    " * Return a [TF Placeholder](https://www.tensorflow.org/api_docs/python/tf/placeholder)\n",
    " * Set the shape using `image_shape` with batch size set to `None`.\n",
    " * Name the TensorFlow placeholder \"x\" using the TensorFlow `name` parameter in the [TF Placeholder](https://www.tensorflow.org/api_docs/python/tf/placeholder).\n",
    "* Implement `neural_net_label_input`\n",
    " * Return a [TF Placeholder](https://www.tensorflow.org/api_docs/python/tf/placeholder)\n",
    " * Set the shape using `n_classes` with batch size set to `None`.\n",
    " * Name the TensorFlow placeholder \"y\" using the TensorFlow `name` parameter in the [TF Placeholder](https://www.tensorflow.org/api_docs/python/tf/placeholder).\n",
    "* Implement `neural_net_keep_prob_input`\n",
    " * Return a [TF Placeholder](https://www.tensorflow.org/api_docs/python/tf/placeholder) for dropout keep probability.\n",
    " * Name the TensorFlow placeholder \"keep_prob\" using the TensorFlow `name` parameter in the [TF Placeholder](https://www.tensorflow.org/api_docs/python/tf/placeholder).\n",
    "\n",
    "These names will be used at the end of the project to load your saved model.\n",
    "\n",
    "Note: `None` for shapes in TensorFlow allow for a dynamic size."
   ]
  },
  {
   "cell_type": "code",
   "execution_count": 173,
   "metadata": {
    "collapsed": false,
    "deletable": true,
    "editable": true
   },
   "outputs": [
    {
     "name": "stdout",
     "output_type": "stream",
     "text": [
      "Image Input Tests Passed.\n",
      "Label Input Tests Passed.\n",
      "Keep Prob Tests Passed.\n"
     ]
    }
   ],
   "source": [
    "import tensorflow as tf\n",
    "\n",
    "def neural_net_image_input(image_shape):\n",
    "    \"\"\"\n",
    "    Return a Tensor for a batch of image input\n",
    "    : image_shape: Shape of the images\n",
    "    : return: Tensor for image input.\n",
    "    \"\"\"\n",
    "    batch_size = None\n",
    "    x = tf.placeholder(tf.float32, shape = [batch_size,*image_shape], name ='x')\n",
    "    \n",
    "    return x\n",
    "\n",
    "\n",
    "def neural_net_label_input(n_classes):\n",
    "    \"\"\"\n",
    "    Return a Tensor for a batch of label input\n",
    "    : n_classes: Number of classes\n",
    "    : return: Tensor for label input.\n",
    "    \"\"\"\n",
    "    batch_size = None\n",
    "    y = tf.placeholder(tf.float32, shape = [batch_size,n_classes], name ='y')\n",
    "    return y\n",
    "\n",
    "\n",
    "def neural_net_keep_prob_input():\n",
    "    \"\"\"\n",
    "    Return a Tensor for keep probability\n",
    "    : return: Tensor for keep probability.\n",
    "    \"\"\"\n",
    " \n",
    "    keep_prob = tf.placeholder(tf.float32,  name ='keep_prob')\n",
    "    return keep_prob\n",
    "\n",
    "\n",
    "\"\"\"\n",
    "DON'T MODIFY ANYTHING IN THIS CELL THAT IS BELOW THIS LINE\n",
    "\"\"\"\n",
    "tf.reset_default_graph()\n",
    "tests.test_nn_image_inputs(neural_net_image_input)\n",
    "tests.test_nn_label_inputs(neural_net_label_input)\n",
    "tests.test_nn_keep_prob_inputs(neural_net_keep_prob_input)"
   ]
  },
  {
   "cell_type": "markdown",
   "metadata": {
    "deletable": true,
    "editable": true
   },
   "source": [
    "### Convolution and Max Pooling Layer\n",
    "Convolution layers have a lot of success with images. For this code cell, you should implement the function `conv2d_maxpool` to apply convolution then max pooling:\n",
    "* Create the weight and bias using `conv_ksize`, `conv_num_outputs` and the shape of `x_tensor`.\n",
    "* Apply a convolution to `x_tensor` using weight and `conv_strides`.\n",
    " * We recommend you use same padding, but you're welcome to use any padding.\n",
    "* Add bias\n",
    "* Add a nonlinear activation to the convolution.\n",
    "* Apply Max Pooling using `pool_ksize` and `pool_strides`.\n",
    " * We recommend you use same padding, but you're welcome to use any padding.\n",
    "\n",
    "**Note:** You **can't** use [TensorFlow Layers](https://www.tensorflow.org/api_docs/python/tf/layers) or [TensorFlow Layers (contrib)](https://www.tensorflow.org/api_guides/python/contrib.layers) for **this** layer, but you can still use TensorFlow's [Neural Network](https://www.tensorflow.org/api_docs/python/tf/nn) package. You may still use the shortcut option for all the **other** layers."
   ]
  },
  {
   "cell_type": "code",
   "execution_count": 174,
   "metadata": {
    "collapsed": false,
    "deletable": true,
    "editable": true
   },
   "outputs": [
    {
     "name": "stdout",
     "output_type": "stream",
     "text": [
      "Tests Passed\n"
     ]
    }
   ],
   "source": [
    "def conv2d_maxpool(x_tensor, conv_num_outputs, conv_ksize, conv_strides, pool_ksize, pool_strides):\n",
    "    \"\"\"\n",
    "    Apply convolution then max pooling to x_tensor\n",
    "    :param x_tensor: TensorFlow Tensor\n",
    "    :param conv_num_outputs: Number of outputs for the convolutional layer\n",
    "    :param conv_ksize: kernal size 2-D Tuple for the convolutional layer\n",
    "    :param conv_strides: Stride 2-D Tuple for convolution\n",
    "    :param pool_ksize: kernal size 2-D Tuple for pool\n",
    "    :param pool_strides: Stride 2-D Tuple for pool\n",
    "    : return: A tensor that represents convolution and max pooling of x_tensor\n",
    "    \"\"\"\n",
    "    ## Conv Layer\n",
    "    \n",
    "    ## Size of filter(heights, width, input_depth, output_depth)\n",
    "    weights = tf.Variable(tf.random_normal((conv_ksize[0], conv_ksize[1],int(x_tensor.shape[3]), conv_num_outputs), mean=0.0, stddev=0.01), trainable=True) \n",
    "    bias = tf.Variable(tf.zeros(conv_num_outputs), trainable=True)\n",
    "    conv_stride = [1,conv_strides[0],conv_strides[1],1]\n",
    "    padding = 'SAME'\n",
    "      \n",
    "    \n",
    "    output_tensor = tf.nn.conv2d(x_tensor, weights,conv_stride,padding) + bias      \n",
    "\n",
    "    ## Relu\n",
    "    output_tensor = tf.nn.relu(output_tensor)\n",
    "    \n",
    "    ## Max Pooling\n",
    "    max_sizes = [1,pool_ksize[0], pool_ksize[1], 1]\n",
    "    max_strides = [1,pool_strides[0], pool_strides[1],1]\n",
    "    max_padding = 'SAME'\n",
    "    output_tensor = tf.nn.max_pool(output_tensor, max_sizes, max_strides, max_padding)\n",
    "    \n",
    "    \n",
    "    \n",
    "      \n",
    "   \n",
    "    \n",
    "    return output_tensor\n",
    "\n",
    "\n",
    "\"\"\"\n",
    "DON'T MODIFY ANYTHING IN THIS CELL THAT IS BELOW THIS LINE\n",
    "\"\"\"\n",
    "tests.test_con_pool(conv2d_maxpool)"
   ]
  },
  {
   "cell_type": "markdown",
   "metadata": {
    "deletable": true,
    "editable": true
   },
   "source": [
    "### Flatten Layer\n",
    "Implement the `flatten` function to change the dimension of `x_tensor` from a 4-D tensor to a 2-D tensor.  The output should be the shape (*Batch Size*, *Flattened Image Size*). Shortcut option: you can use classes from the [TensorFlow Layers](https://www.tensorflow.org/api_docs/python/tf/layers) or [TensorFlow Layers (contrib)](https://www.tensorflow.org/api_guides/python/contrib.layers) packages for this layer. For more of a challenge, only use other TensorFlow packages."
   ]
  },
  {
   "cell_type": "code",
   "execution_count": 175,
   "metadata": {
    "collapsed": false,
    "deletable": true,
    "editable": true
   },
   "outputs": [
    {
     "name": "stdout",
     "output_type": "stream",
     "text": [
      "Tests Passed\n"
     ]
    }
   ],
   "source": [
    "def flatten(x_tensor):\n",
    "    \"\"\"\n",
    "    Flatten x_tensor to (Batch Size, Flattened Image Size)\n",
    "    : x_tensor: A tensor of size (Batch Size, ...), where ... are the image dimensions.\n",
    "    : return: A tensor of size (Batch Size, Flattened Image Size).\n",
    "    \"\"\"\n",
    "    \n",
    "    output_tensor = x_tensor\n",
    "    output_tensor = tf.reshape(output_tensor,[-1, int(x_tensor.shape[1])*int(x_tensor.shape[2])*int(x_tensor.shape[3])])\n",
    "    \n",
    "    return output_tensor\n",
    "\n",
    "\n",
    "\"\"\"\n",
    "DON'T MODIFY ANYTHING IN THIS CELL THAT IS BELOW THIS LINE\n",
    "\"\"\"\n",
    "tests.test_flatten(flatten)"
   ]
  },
  {
   "cell_type": "markdown",
   "metadata": {
    "deletable": true,
    "editable": true
   },
   "source": [
    "### Fully-Connected Layer\n",
    "Implement the `fully_conn` function to apply a fully connected layer to `x_tensor` with the shape (*Batch Size*, *num_outputs*). Shortcut option: you can use classes from the [TensorFlow Layers](https://www.tensorflow.org/api_docs/python/tf/layers) or [TensorFlow Layers (contrib)](https://www.tensorflow.org/api_guides/python/contrib.layers) packages for this layer. For more of a challenge, only use other TensorFlow packages."
   ]
  },
  {
   "cell_type": "code",
   "execution_count": 182,
   "metadata": {
    "collapsed": false,
    "deletable": true,
    "editable": true
   },
   "outputs": [
    {
     "name": "stdout",
     "output_type": "stream",
     "text": [
      "Tests Passed\n"
     ]
    }
   ],
   "source": [
    "def fully_conn(x_tensor, num_outputs):\n",
    "    \"\"\"\n",
    "    Apply a fully connected layer to x_tensor using weight and bias\n",
    "    : x_tensor: A 2-D tensor where the first dimension is batch size.\n",
    "    : num_outputs: The number of output that the new tensor should be.\n",
    "    : return: A 2-D tensor where the second dimension is num_outputs.\n",
    "    \"\"\"\n",
    "    \n",
    "   \n",
    "    \n",
    "    weights = tf.Variable(tf.truncated_normal([int(x_tensor.shape[1]),num_outputs], 0 , 0.01))\n",
    "    bias = tf.Variable(tf.zeros(num_outputs), trainable=True)\n",
    "    x_output = tf.add(tf.matmul(x_tensor,weights),bias)\n",
    "    return tf.nn.relu(x_output)\n",
    "\n",
    "\n",
    "\"\"\"\n",
    "DON'T MODIFY ANYTHING IN THIS CELL THAT IS BELOW THIS LINE\n",
    "\"\"\"\n",
    "tests.test_fully_conn(fully_conn)"
   ]
  },
  {
   "cell_type": "markdown",
   "metadata": {
    "deletable": true,
    "editable": true
   },
   "source": [
    "### Output Layer\n",
    "Implement the `output` function to apply a fully connected layer to `x_tensor` with the shape (*Batch Size*, *num_outputs*). Shortcut option: you can use classes from the [TensorFlow Layers](https://www.tensorflow.org/api_docs/python/tf/layers) or [TensorFlow Layers (contrib)](https://www.tensorflow.org/api_guides/python/contrib.layers) packages for this layer. For more of a challenge, only use other TensorFlow packages.\n",
    "\n",
    "**Note:** Activation, softmax, or cross entropy should **not** be applied to this."
   ]
  },
  {
   "cell_type": "code",
   "execution_count": 183,
   "metadata": {
    "collapsed": false,
    "deletable": true,
    "editable": true
   },
   "outputs": [
    {
     "name": "stdout",
     "output_type": "stream",
     "text": [
      "Tests Passed\n"
     ]
    }
   ],
   "source": [
    "def output(x_tensor, num_outputs):\n",
    "    \"\"\"\n",
    "    Apply a output layer to x_tensor using weight and bias\n",
    "    : x_tensor: A 2-D tensor where the first dimension is batch size.\n",
    "    : num_outputs: The number of output that the new tensor should be.\n",
    "    : return: A 2-D tensor where the second dimension is num_outputs.\n",
    "    \"\"\"\n",
    "    weights = tf.Variable(tf.truncated_normal([int(x_tensor.shape[1]), num_outputs],0,0.01))\n",
    "    bias = tf.Variable(tf.zeros(num_outputs))\n",
    "    return tf.add(tf.matmul(x_tensor, weights), bias)\n",
    "\n",
    "\n",
    "\"\"\"\n",
    "DON'T MODIFY ANYTHING IN THIS CELL THAT IS BELOW THIS LINE\n",
    "\"\"\"\n",
    "tests.test_output(output)"
   ]
  },
  {
   "cell_type": "markdown",
   "metadata": {
    "deletable": true,
    "editable": true
   },
   "source": [
    "### Create Convolutional Model\n",
    "Implement the function `conv_net` to create a convolutional neural network model. The function takes in a batch of images, `x`, and outputs logits.  Use the layers you created above to create this model:\n",
    "\n",
    "* Apply 1, 2, or 3 Convolution and Max Pool layers\n",
    "* Apply a Flatten Layer\n",
    "* Apply 1, 2, or 3 Fully Connected Layers\n",
    "* Apply an Output Layer\n",
    "* Return the output\n",
    "* Apply [TensorFlow's Dropout](https://www.tensorflow.org/api_docs/python/tf/nn/dropout) to one or more layers in the model using `keep_prob`. "
   ]
  },
  {
   "cell_type": "code",
   "execution_count": 203,
   "metadata": {
    "collapsed": false,
    "deletable": true,
    "editable": true
   },
   "outputs": [
    {
     "name": "stdout",
     "output_type": "stream",
     "text": [
      "Neural Network Built!\n"
     ]
    }
   ],
   "source": [
    "def conv_net(x, keep_prob):\n",
    "    \"\"\"\n",
    "    Create a convolutional neural network model\n",
    "    : x: Placeholder tensor that holds image data.\n",
    "    : keep_prob: Placeholder tensor that hold dropout keep probability.\n",
    "    : return: Tensor that represents logits\n",
    "    \"\"\"\n",
    "    #  Apply Convolution and Max Pool layers\n",
    "    #    Play around with different number of outputs, kernel size and stride\n",
    "    # Function Definition from Above:\n",
    "    #    conv2d_maxpool(x_tensor, conv_num_outputs, conv_ksize, conv_strides, pool_ksize, pool_strides)\n",
    "    x_output = conv2d_maxpool(x,16,(1,8,8,1),(2,2),(8,8),(2,2))\n",
    "    x_output = conv2d_maxpool(x,32,(1,4,4,1),(2,2),(4,4),(2,2))\n",
    "    x_output = conv2d_maxpool(x,64,(1,2,2,1),(2,2),(2,2),(2,2))\n",
    "    \n",
    "\n",
    "    #  Apply a Flatten Layer\n",
    "    # Function Definition from Above:\n",
    "    x_output = flatten(x_output)\n",
    "    \n",
    "\n",
    "    #  Apply Fully Connected Layers\n",
    "    #    Play around with different number of outputs\n",
    "    # Function Definition from Above:\n",
    "    x_output = tf.nn.dropout(x_output, keep_prob)\n",
    "    x_output = fully_conn(x_output, 512)\n",
    "    x_output = fully_conn(x_output, 1024)\n",
    "    x_output = fully_conn(x_output, 2048)\n",
    "    \n",
    "   # x_output = fully_conn(x_output, 64)\n",
    " #   x_output = fully_conn(x_output, 256)\n",
    "    \n",
    "    \n",
    "    #  Apply an Output Layer\n",
    "    #    Set this to the number of classes\n",
    "    # Function Definition from Above:\n",
    "    x_output = output(x_output, 10)\n",
    "    \n",
    "    \n",
    "    # return output\n",
    "    return x_output\n",
    "\n",
    "\n",
    "\"\"\"\n",
    "DON'T MODIFY ANYTHING IN THIS CELL THAT IS BELOW THIS LINE\n",
    "\"\"\"\n",
    "\n",
    "##############################\n",
    "## Build the Neural Network ##\n",
    "##############################\n",
    "\n",
    "# Remove previous weights, bias, inputs, etc..\n",
    "tf.reset_default_graph()\n",
    "\n",
    "# Inputs\n",
    "x = neural_net_image_input((32, 32, 3))\n",
    "y = neural_net_label_input(10)\n",
    "keep_prob = neural_net_keep_prob_input()\n",
    "\n",
    "# Model\n",
    "logits = conv_net(x, keep_prob)\n",
    "\n",
    "# Name logits Tensor, so that is can be loaded from disk after training\n",
    "logits = tf.identity(logits, name='logits')\n",
    "\n",
    "# Loss and Optimizer\n",
    "cost = tf.reduce_mean(tf.nn.softmax_cross_entropy_with_logits(logits=logits, labels=y))\n",
    "optimizer = tf.train.AdamOptimizer().minimize(cost)\n",
    "\n",
    "# Accuracy\n",
    "correct_pred = tf.equal(tf.argmax(logits, 1), tf.argmax(y, 1))\n",
    "accuracy = tf.reduce_mean(tf.cast(correct_pred, tf.float32), name='accuracy')\n",
    "\n",
    "tests.test_conv_net(conv_net)"
   ]
  },
  {
   "cell_type": "code",
   "execution_count": 204,
   "metadata": {
    "collapsed": false
   },
   "outputs": [],
   "source": [
    "def conv_net(x, keep_prob):\n",
    "\n",
    "    # TODO: Apply 1, 2, or 3 Convolution and Max Pool layers\n",
    "    #    Play around with different number of outputs, kernel size and stride\n",
    "    # Function Definition from Above:\n",
    "    #    conv2d_maxpool(x_tensor, conv_num_outputs, conv_ksize, conv_strides, pool_ksize, pool_strides)\n",
    "\n",
    "    conv_size = (3,3)\n",
    "    conv_strides = (1,1)\n",
    "    pool_size = (2,2)\n",
    "    pool_strides = (2,2)    \n",
    "\n",
    "    conv1 = conv2d_maxpool(x, 16, conv_size, conv_strides, pool_size, pool_strides)\n",
    "\n",
    "    conv2 = conv2d_maxpool(conv1, 32, conv_size, conv_strides, pool_size, pool_strides)\n",
    "\n",
    "    #conv3 = conv2d_maxpool(conv2, 64, conv_size, conv_strides, pool_size, pool_strides)    \n",
    "    # TODO: Apply a Flatten Layer\n",
    "    # Function Definition from Above:\n",
    "\n",
    "    #   flatten(x_tensor)\n",
    "\n",
    "    flat = flatten(conv2) \n",
    "    # TODO: Apply 1, 2, or 3 Fully Connected Layers\n",
    "    #    Play around with different number of outputs\n",
    "    # Function Definition from Above:\n",
    "    #   fully_conn(x_tensor, num_outputs)\n",
    "\n",
    "    fc1 = fully_conn(flat, 512)\n",
    "\n",
    "    fc = tf.nn.dropout(fc1, keep_prob)\n",
    "   \n",
    "\n",
    "    #fc2 = fully_conn(fc1, 512)\n",
    "    out = output(fc, 10)\n",
    "\n",
    "           # TODO: return output\n",
    "    return out"
   ]
  },
  {
   "cell_type": "markdown",
   "metadata": {
    "deletable": true,
    "editable": true
   },
   "source": [
    "## Train the Neural Network\n",
    "### Single Optimization\n",
    "Implement the function `train_neural_network` to do a single optimization.  The optimization should use `optimizer` to optimize in `session` with a `feed_dict` of the following:\n",
    "* `x` for image input\n",
    "* `y` for labels\n",
    "* `keep_prob` for keep probability for dropout\n",
    "\n",
    "This function will be called for each batch, so `tf.global_variables_initializer()` has already been called.\n",
    "\n",
    "Note: Nothing needs to be returned. This function is only optimizing the neural network."
   ]
  },
  {
   "cell_type": "code",
   "execution_count": 205,
   "metadata": {
    "collapsed": false,
    "deletable": true,
    "editable": true
   },
   "outputs": [
    {
     "name": "stdout",
     "output_type": "stream",
     "text": [
      "Tests Passed\n"
     ]
    }
   ],
   "source": [
    "def train_neural_network(session, optimizer, keep_probability, feature_batch, label_batch):\n",
    "    \"\"\"\n",
    "    Optimize the session on a batch of images and labels\n",
    "    : session: Current TensorFlow session\n",
    "    : optimizer: TensorFlow optimizer function\n",
    "    : keep_probability: keep probability\n",
    "    : feature_batch: Batch of Numpy image data\n",
    "    : label_batch: Batch of Numpy label data\n",
    "    \"\"\"\n",
    "    session.run(optimizer, feed_dict={x: feature_batch, y: label_batch, keep_prob: keep_probability})  \n",
    "\n",
    "\n",
    "\"\"\"\n",
    "DON'T MODIFY ANYTHING IN THIS CELL THAT IS BELOW THIS LINE\n",
    "\"\"\"\n",
    "tests.test_train_nn(train_neural_network)"
   ]
  },
  {
   "cell_type": "markdown",
   "metadata": {
    "deletable": true,
    "editable": true
   },
   "source": [
    "### Show Stats\n",
    "Implement the function `print_stats` to print loss and validation accuracy.  Use the global variables `valid_features` and `valid_labels` to calculate validation accuracy.  Use a keep probability of `1.0` to calculate the loss and validation accuracy."
   ]
  },
  {
   "cell_type": "code",
   "execution_count": 206,
   "metadata": {
    "collapsed": false,
    "deletable": true,
    "editable": true
   },
   "outputs": [],
   "source": [
    "def print_stats(session, feature_batch, label_batch, cost, accuracy):\n",
    "    \"\"\"\n",
    "    Print information about loss and validation accuracy\n",
    "    : session: Current TensorFlow session\n",
    "    : feature_batch: Batch of Numpy image data\n",
    "    : label_batch: Batch of Numpy label data\n",
    "    : cost: TensorFlow cost function\n",
    "    : accuracy: TensorFlow accuracy function\n",
    "    \"\"\"\n",
    "    #  Implement Function\n",
    "   \n",
    "    loss = session.run(cost, feed_dict={x: feature_batch, y: label_batch, keep_prob: 1.0})\n",
    "    valid_acc = session.run(accuracy, feed_dict={x: valid_features, y: valid_labels, keep_prob: 1.0})\n",
    "    print('Loss: {:>10.4f} Accuracy: {:.6f}'.format(loss,valid_acc))"
   ]
  },
  {
   "cell_type": "markdown",
   "metadata": {
    "deletable": true,
    "editable": true
   },
   "source": [
    "### Hyperparameters\n",
    "Tune the following parameters:\n",
    "* Set `epochs` to the number of iterations until the network stops learning or start overfitting\n",
    "* Set `batch_size` to the highest number that your machine has memory for.  Most people set them to common sizes of memory:\n",
    " * 64\n",
    " * 128\n",
    " * 256\n",
    " * ...\n",
    "* Set `keep_probability` to the probability of keeping a node using dropout"
   ]
  },
  {
   "cell_type": "code",
   "execution_count": 207,
   "metadata": {
    "collapsed": true,
    "deletable": true,
    "editable": true
   },
   "outputs": [],
   "source": [
    "# TODO: Tune Parameters\n",
    "epochs = 64\n",
    "batch_size = 1024\n",
    "keep_probability = 0.75"
   ]
  },
  {
   "cell_type": "markdown",
   "metadata": {
    "deletable": true,
    "editable": true
   },
   "source": [
    "### Train on a Single CIFAR-10 Batch\n",
    "Instead of training the neural network on all the CIFAR-10 batches of data, let's use a single batch. This should save time while you iterate on the model to get a better accuracy.  Once the final validation accuracy is 50% or greater, run the model on all the data in the next section."
   ]
  },
  {
   "cell_type": "code",
   "execution_count": 208,
   "metadata": {
    "collapsed": false,
    "deletable": true,
    "editable": true
   },
   "outputs": [
    {
     "name": "stdout",
     "output_type": "stream",
     "text": [
      "Checking the Training on a Single Batch...\n",
      "Epoch  1, CIFAR-10 Batch 1:  Loss:     2.2484 Accuracy: 0.144000\n",
      "Epoch  2, CIFAR-10 Batch 1:  Loss:     2.2033 Accuracy: 0.161400\n",
      "Epoch  3, CIFAR-10 Batch 1:  Loss:     2.1546 Accuracy: 0.174200\n",
      "Epoch  4, CIFAR-10 Batch 1:  Loss:     2.1141 Accuracy: 0.190400\n"
     ]
    },
    {
     "ename": "KeyboardInterrupt",
     "evalue": "",
     "output_type": "error",
     "traceback": [
      "\u001b[1;31m---------------------------------------------------------------------------\u001b[0m",
      "\u001b[1;31mKeyboardInterrupt\u001b[0m                         Traceback (most recent call last)",
      "\u001b[1;32m<ipython-input-208-0ebd1bbc35ad>\u001b[0m in \u001b[0;36m<module>\u001b[1;34m()\u001b[0m\n\u001b[0;32m     11\u001b[0m         \u001b[0mbatch_i\u001b[0m \u001b[1;33m=\u001b[0m \u001b[1;36m1\u001b[0m\u001b[1;33m\u001b[0m\u001b[0m\n\u001b[0;32m     12\u001b[0m         \u001b[1;32mfor\u001b[0m \u001b[0mbatch_features\u001b[0m\u001b[1;33m,\u001b[0m \u001b[0mbatch_labels\u001b[0m \u001b[1;32min\u001b[0m \u001b[0mhelper\u001b[0m\u001b[1;33m.\u001b[0m\u001b[0mload_preprocess_training_batch\u001b[0m\u001b[1;33m(\u001b[0m\u001b[0mbatch_i\u001b[0m\u001b[1;33m,\u001b[0m \u001b[0mbatch_size\u001b[0m\u001b[1;33m)\u001b[0m\u001b[1;33m:\u001b[0m\u001b[1;33m\u001b[0m\u001b[0m\n\u001b[1;32m---> 13\u001b[1;33m             \u001b[0mtrain_neural_network\u001b[0m\u001b[1;33m(\u001b[0m\u001b[0msess\u001b[0m\u001b[1;33m,\u001b[0m \u001b[0moptimizer\u001b[0m\u001b[1;33m,\u001b[0m \u001b[0mkeep_probability\u001b[0m\u001b[1;33m,\u001b[0m \u001b[0mbatch_features\u001b[0m\u001b[1;33m,\u001b[0m \u001b[0mbatch_labels\u001b[0m\u001b[1;33m)\u001b[0m\u001b[1;33m\u001b[0m\u001b[0m\n\u001b[0m\u001b[0;32m     14\u001b[0m         \u001b[0mprint\u001b[0m\u001b[1;33m(\u001b[0m\u001b[1;34m'Epoch {:>2}, CIFAR-10 Batch {}:  '\u001b[0m\u001b[1;33m.\u001b[0m\u001b[0mformat\u001b[0m\u001b[1;33m(\u001b[0m\u001b[0mepoch\u001b[0m \u001b[1;33m+\u001b[0m \u001b[1;36m1\u001b[0m\u001b[1;33m,\u001b[0m \u001b[0mbatch_i\u001b[0m\u001b[1;33m)\u001b[0m\u001b[1;33m,\u001b[0m \u001b[0mend\u001b[0m\u001b[1;33m=\u001b[0m\u001b[1;34m''\u001b[0m\u001b[1;33m)\u001b[0m\u001b[1;33m\u001b[0m\u001b[0m\n\u001b[0;32m     15\u001b[0m         \u001b[0mprint_stats\u001b[0m\u001b[1;33m(\u001b[0m\u001b[0msess\u001b[0m\u001b[1;33m,\u001b[0m \u001b[0mbatch_features\u001b[0m\u001b[1;33m,\u001b[0m \u001b[0mbatch_labels\u001b[0m\u001b[1;33m,\u001b[0m \u001b[0mcost\u001b[0m\u001b[1;33m,\u001b[0m \u001b[0maccuracy\u001b[0m\u001b[1;33m)\u001b[0m\u001b[1;33m\u001b[0m\u001b[0m\n",
      "\u001b[1;32m<ipython-input-205-8feec91501b5>\u001b[0m in \u001b[0;36mtrain_neural_network\u001b[1;34m(session, optimizer, keep_probability, feature_batch, label_batch)\u001b[0m\n\u001b[0;32m      8\u001b[0m     \u001b[1;33m:\u001b[0m \u001b[0mlabel_batch\u001b[0m\u001b[1;33m:\u001b[0m \u001b[0mBatch\u001b[0m \u001b[0mof\u001b[0m \u001b[0mNumpy\u001b[0m \u001b[0mlabel\u001b[0m \u001b[0mdata\u001b[0m\u001b[1;33m\u001b[0m\u001b[0m\n\u001b[0;32m      9\u001b[0m     \"\"\"\n\u001b[1;32m---> 10\u001b[1;33m     \u001b[0msession\u001b[0m\u001b[1;33m.\u001b[0m\u001b[0mrun\u001b[0m\u001b[1;33m(\u001b[0m\u001b[0moptimizer\u001b[0m\u001b[1;33m,\u001b[0m \u001b[0mfeed_dict\u001b[0m\u001b[1;33m=\u001b[0m\u001b[1;33m{\u001b[0m\u001b[0mx\u001b[0m\u001b[1;33m:\u001b[0m \u001b[0mfeature_batch\u001b[0m\u001b[1;33m,\u001b[0m \u001b[0my\u001b[0m\u001b[1;33m:\u001b[0m \u001b[0mlabel_batch\u001b[0m\u001b[1;33m,\u001b[0m \u001b[0mkeep_prob\u001b[0m\u001b[1;33m:\u001b[0m \u001b[0mkeep_probability\u001b[0m\u001b[1;33m}\u001b[0m\u001b[1;33m)\u001b[0m\u001b[1;33m\u001b[0m\u001b[0m\n\u001b[0m\u001b[0;32m     11\u001b[0m \u001b[1;33m\u001b[0m\u001b[0m\n\u001b[0;32m     12\u001b[0m \u001b[1;33m\u001b[0m\u001b[0m\n",
      "\u001b[1;32mC:\\ProgramData\\Anaconda3\\envs\\tensorflow\\lib\\site-packages\\tensorflow\\python\\client\\session.py\u001b[0m in \u001b[0;36mrun\u001b[1;34m(self, fetches, feed_dict, options, run_metadata)\u001b[0m\n\u001b[0;32m    765\u001b[0m     \u001b[1;32mtry\u001b[0m\u001b[1;33m:\u001b[0m\u001b[1;33m\u001b[0m\u001b[0m\n\u001b[0;32m    766\u001b[0m       result = self._run(None, fetches, feed_dict, options_ptr,\n\u001b[1;32m--> 767\u001b[1;33m                          run_metadata_ptr)\n\u001b[0m\u001b[0;32m    768\u001b[0m       \u001b[1;32mif\u001b[0m \u001b[0mrun_metadata\u001b[0m\u001b[1;33m:\u001b[0m\u001b[1;33m\u001b[0m\u001b[0m\n\u001b[0;32m    769\u001b[0m         \u001b[0mproto_data\u001b[0m \u001b[1;33m=\u001b[0m \u001b[0mtf_session\u001b[0m\u001b[1;33m.\u001b[0m\u001b[0mTF_GetBuffer\u001b[0m\u001b[1;33m(\u001b[0m\u001b[0mrun_metadata_ptr\u001b[0m\u001b[1;33m)\u001b[0m\u001b[1;33m\u001b[0m\u001b[0m\n",
      "\u001b[1;32mC:\\ProgramData\\Anaconda3\\envs\\tensorflow\\lib\\site-packages\\tensorflow\\python\\client\\session.py\u001b[0m in \u001b[0;36m_run\u001b[1;34m(self, handle, fetches, feed_dict, options, run_metadata)\u001b[0m\n\u001b[0;32m    963\u001b[0m     \u001b[1;32mif\u001b[0m \u001b[0mfinal_fetches\u001b[0m \u001b[1;32mor\u001b[0m \u001b[0mfinal_targets\u001b[0m\u001b[1;33m:\u001b[0m\u001b[1;33m\u001b[0m\u001b[0m\n\u001b[0;32m    964\u001b[0m       results = self._do_run(handle, final_targets, final_fetches,\n\u001b[1;32m--> 965\u001b[1;33m                              feed_dict_string, options, run_metadata)\n\u001b[0m\u001b[0;32m    966\u001b[0m     \u001b[1;32melse\u001b[0m\u001b[1;33m:\u001b[0m\u001b[1;33m\u001b[0m\u001b[0m\n\u001b[0;32m    967\u001b[0m       \u001b[0mresults\u001b[0m \u001b[1;33m=\u001b[0m \u001b[1;33m[\u001b[0m\u001b[1;33m]\u001b[0m\u001b[1;33m\u001b[0m\u001b[0m\n",
      "\u001b[1;32mC:\\ProgramData\\Anaconda3\\envs\\tensorflow\\lib\\site-packages\\tensorflow\\python\\client\\session.py\u001b[0m in \u001b[0;36m_do_run\u001b[1;34m(self, handle, target_list, fetch_list, feed_dict, options, run_metadata)\u001b[0m\n\u001b[0;32m   1013\u001b[0m     \u001b[1;32mif\u001b[0m \u001b[0mhandle\u001b[0m \u001b[1;32mis\u001b[0m \u001b[1;32mNone\u001b[0m\u001b[1;33m:\u001b[0m\u001b[1;33m\u001b[0m\u001b[0m\n\u001b[0;32m   1014\u001b[0m       return self._do_call(_run_fn, self._session, feed_dict, fetch_list,\n\u001b[1;32m-> 1015\u001b[1;33m                            target_list, options, run_metadata)\n\u001b[0m\u001b[0;32m   1016\u001b[0m     \u001b[1;32melse\u001b[0m\u001b[1;33m:\u001b[0m\u001b[1;33m\u001b[0m\u001b[0m\n\u001b[0;32m   1017\u001b[0m       return self._do_call(_prun_fn, self._session, handle, feed_dict,\n",
      "\u001b[1;32mC:\\ProgramData\\Anaconda3\\envs\\tensorflow\\lib\\site-packages\\tensorflow\\python\\client\\session.py\u001b[0m in \u001b[0;36m_do_call\u001b[1;34m(self, fn, *args)\u001b[0m\n\u001b[0;32m   1020\u001b[0m   \u001b[1;32mdef\u001b[0m \u001b[0m_do_call\u001b[0m\u001b[1;33m(\u001b[0m\u001b[0mself\u001b[0m\u001b[1;33m,\u001b[0m \u001b[0mfn\u001b[0m\u001b[1;33m,\u001b[0m \u001b[1;33m*\u001b[0m\u001b[0margs\u001b[0m\u001b[1;33m)\u001b[0m\u001b[1;33m:\u001b[0m\u001b[1;33m\u001b[0m\u001b[0m\n\u001b[0;32m   1021\u001b[0m     \u001b[1;32mtry\u001b[0m\u001b[1;33m:\u001b[0m\u001b[1;33m\u001b[0m\u001b[0m\n\u001b[1;32m-> 1022\u001b[1;33m       \u001b[1;32mreturn\u001b[0m \u001b[0mfn\u001b[0m\u001b[1;33m(\u001b[0m\u001b[1;33m*\u001b[0m\u001b[0margs\u001b[0m\u001b[1;33m)\u001b[0m\u001b[1;33m\u001b[0m\u001b[0m\n\u001b[0m\u001b[0;32m   1023\u001b[0m     \u001b[1;32mexcept\u001b[0m \u001b[0merrors\u001b[0m\u001b[1;33m.\u001b[0m\u001b[0mOpError\u001b[0m \u001b[1;32mas\u001b[0m \u001b[0me\u001b[0m\u001b[1;33m:\u001b[0m\u001b[1;33m\u001b[0m\u001b[0m\n\u001b[0;32m   1024\u001b[0m       \u001b[0mmessage\u001b[0m \u001b[1;33m=\u001b[0m \u001b[0mcompat\u001b[0m\u001b[1;33m.\u001b[0m\u001b[0mas_text\u001b[0m\u001b[1;33m(\u001b[0m\u001b[0me\u001b[0m\u001b[1;33m.\u001b[0m\u001b[0mmessage\u001b[0m\u001b[1;33m)\u001b[0m\u001b[1;33m\u001b[0m\u001b[0m\n",
      "\u001b[1;32mC:\\ProgramData\\Anaconda3\\envs\\tensorflow\\lib\\site-packages\\tensorflow\\python\\client\\session.py\u001b[0m in \u001b[0;36m_run_fn\u001b[1;34m(session, feed_dict, fetch_list, target_list, options, run_metadata)\u001b[0m\n\u001b[0;32m   1002\u001b[0m         return tf_session.TF_Run(session, options,\n\u001b[0;32m   1003\u001b[0m                                  \u001b[0mfeed_dict\u001b[0m\u001b[1;33m,\u001b[0m \u001b[0mfetch_list\u001b[0m\u001b[1;33m,\u001b[0m \u001b[0mtarget_list\u001b[0m\u001b[1;33m,\u001b[0m\u001b[1;33m\u001b[0m\u001b[0m\n\u001b[1;32m-> 1004\u001b[1;33m                                  status, run_metadata)\n\u001b[0m\u001b[0;32m   1005\u001b[0m \u001b[1;33m\u001b[0m\u001b[0m\n\u001b[0;32m   1006\u001b[0m     \u001b[1;32mdef\u001b[0m \u001b[0m_prun_fn\u001b[0m\u001b[1;33m(\u001b[0m\u001b[0msession\u001b[0m\u001b[1;33m,\u001b[0m \u001b[0mhandle\u001b[0m\u001b[1;33m,\u001b[0m \u001b[0mfeed_dict\u001b[0m\u001b[1;33m,\u001b[0m \u001b[0mfetch_list\u001b[0m\u001b[1;33m)\u001b[0m\u001b[1;33m:\u001b[0m\u001b[1;33m\u001b[0m\u001b[0m\n",
      "\u001b[1;31mKeyboardInterrupt\u001b[0m: "
     ]
    }
   ],
   "source": [
    "\"\"\"\n",
    "DON'T MODIFY ANYTHING IN THIS CELL\n",
    "\"\"\"\n",
    "print('Checking the Training on a Single Batch...')\n",
    "with tf.Session() as sess:\n",
    "    # Initializing the variables\n",
    "    sess.run(tf.global_variables_initializer())\n",
    "    \n",
    "    # Training cycle\n",
    "    for epoch in range(epochs):\n",
    "        batch_i = 1\n",
    "        for batch_features, batch_labels in helper.load_preprocess_training_batch(batch_i, batch_size):\n",
    "            train_neural_network(sess, optimizer, keep_probability, batch_features, batch_labels)\n",
    "        print('Epoch {:>2}, CIFAR-10 Batch {}:  '.format(epoch + 1, batch_i), end='')\n",
    "        print_stats(sess, batch_features, batch_labels, cost, accuracy)"
   ]
  },
  {
   "cell_type": "markdown",
   "metadata": {
    "deletable": true,
    "editable": true
   },
   "source": [
    "### Fully Train the Model\n",
    "Now that you got a good accuracy with a single CIFAR-10 batch, try it with all five batches."
   ]
  },
  {
   "cell_type": "code",
   "execution_count": 209,
   "metadata": {
    "collapsed": false,
    "deletable": true,
    "editable": true
   },
   "outputs": [
    {
     "name": "stdout",
     "output_type": "stream",
     "text": [
      "Training...\n",
      "Epoch  1, CIFAR-10 Batch 1:  Loss:     2.2467 Accuracy: 0.134200\n",
      "Epoch  1, CIFAR-10 Batch 2:  Loss:     2.1921 Accuracy: 0.157000\n",
      "Epoch  1, CIFAR-10 Batch 3:  Loss:     2.1142 Accuracy: 0.164600\n",
      "Epoch  1, CIFAR-10 Batch 4:  Loss:     2.0324 Accuracy: 0.194200\n",
      "Epoch  1, CIFAR-10 Batch 5:  Loss:     2.0240 Accuracy: 0.210400\n",
      "Epoch  2, CIFAR-10 Batch 1:  Loss:     2.0567 Accuracy: 0.211200\n",
      "Epoch  2, CIFAR-10 Batch 2:  Loss:     1.9932 Accuracy: 0.217800\n",
      "Epoch  2, CIFAR-10 Batch 3:  Loss:     1.9591 Accuracy: 0.211000\n",
      "Epoch  2, CIFAR-10 Batch 4:  Loss:     1.8822 Accuracy: 0.252800\n",
      "Epoch  2, CIFAR-10 Batch 5:  Loss:     1.8775 Accuracy: 0.254000\n",
      "Epoch  3, CIFAR-10 Batch 1:  Loss:     1.8304 Accuracy: 0.270600\n",
      "Epoch  3, CIFAR-10 Batch 2:  Loss:     1.7882 Accuracy: 0.297800\n",
      "Epoch  3, CIFAR-10 Batch 3:  Loss:     1.7469 Accuracy: 0.303600\n",
      "Epoch  3, CIFAR-10 Batch 4:  Loss:     1.7326 Accuracy: 0.316400\n",
      "Epoch  3, CIFAR-10 Batch 5:  Loss:     1.6887 Accuracy: 0.341800\n",
      "Epoch  4, CIFAR-10 Batch 1:  Loss:     1.6917 Accuracy: 0.359000\n",
      "Epoch  4, CIFAR-10 Batch 2:  Loss:     1.6520 Accuracy: 0.350800\n",
      "Epoch  4, CIFAR-10 Batch 3:  Loss:     1.6040 Accuracy: 0.377000\n",
      "Epoch  4, CIFAR-10 Batch 4:  Loss:     1.5691 Accuracy: 0.385200\n",
      "Epoch  4, CIFAR-10 Batch 5:  Loss:     1.5811 Accuracy: 0.387000\n",
      "Epoch  5, CIFAR-10 Batch 1:  Loss:     1.6172 Accuracy: 0.403600\n",
      "Epoch  5, CIFAR-10 Batch 2:  Loss:     1.5431 Accuracy: 0.410200\n",
      "Epoch  5, CIFAR-10 Batch 3:  Loss:     1.5527 Accuracy: 0.403800\n",
      "Epoch  5, CIFAR-10 Batch 4:  Loss:     1.4941 Accuracy: 0.425800\n",
      "Epoch  5, CIFAR-10 Batch 5:  Loss:     1.4841 Accuracy: 0.428000\n",
      "Epoch  6, CIFAR-10 Batch 1:  Loss:     1.5446 Accuracy: 0.430000\n",
      "Epoch  6, CIFAR-10 Batch 2:  Loss:     1.4827 Accuracy: 0.445600\n",
      "Epoch  6, CIFAR-10 Batch 3:  Loss:     1.4727 Accuracy: 0.440600\n",
      "Epoch  6, CIFAR-10 Batch 4:  Loss:     1.3993 Accuracy: 0.458600\n",
      "Epoch  6, CIFAR-10 Batch 5:  Loss:     1.3828 Accuracy: 0.461400\n",
      "Epoch  7, CIFAR-10 Batch 1:  Loss:     1.4492 Accuracy: 0.480600\n",
      "Epoch  7, CIFAR-10 Batch 2:  Loss:     1.3775 Accuracy: 0.478400\n",
      "Epoch  7, CIFAR-10 Batch 3:  Loss:     1.3644 Accuracy: 0.477600\n",
      "Epoch  7, CIFAR-10 Batch 4:  Loss:     1.3225 Accuracy: 0.486600\n",
      "Epoch  7, CIFAR-10 Batch 5:  Loss:     1.3157 Accuracy: 0.492800\n",
      "Epoch  8, CIFAR-10 Batch 1:  Loss:     1.3974 Accuracy: 0.501800\n",
      "Epoch  8, CIFAR-10 Batch 2:  Loss:     1.3712 Accuracy: 0.480600\n",
      "Epoch  8, CIFAR-10 Batch 3:  Loss:     1.2864 Accuracy: 0.509800\n",
      "Epoch  8, CIFAR-10 Batch 4:  Loss:     1.2753 Accuracy: 0.506000\n",
      "Epoch  8, CIFAR-10 Batch 5:  Loss:     1.2491 Accuracy: 0.515400\n",
      "Epoch  9, CIFAR-10 Batch 1:  Loss:     1.3308 Accuracy: 0.521000\n",
      "Epoch  9, CIFAR-10 Batch 2:  Loss:     1.2927 Accuracy: 0.494000\n",
      "Epoch  9, CIFAR-10 Batch 3:  Loss:     1.2299 Accuracy: 0.522200\n",
      "Epoch  9, CIFAR-10 Batch 4:  Loss:     1.2132 Accuracy: 0.520600\n",
      "Epoch  9, CIFAR-10 Batch 5:  Loss:     1.1895 Accuracy: 0.526400\n",
      "Epoch 10, CIFAR-10 Batch 1:  Loss:     1.2939 Accuracy: 0.523400\n",
      "Epoch 10, CIFAR-10 Batch 2:  Loss:     1.2290 Accuracy: 0.519600\n",
      "Epoch 10, CIFAR-10 Batch 3:  Loss:     1.1950 Accuracy: 0.526600\n",
      "Epoch 10, CIFAR-10 Batch 4:  Loss:     1.1551 Accuracy: 0.532400\n",
      "Epoch 10, CIFAR-10 Batch 5:  Loss:     1.1375 Accuracy: 0.542800\n",
      "Epoch 11, CIFAR-10 Batch 1:  Loss:     1.2457 Accuracy: 0.530800\n",
      "Epoch 11, CIFAR-10 Batch 2:  Loss:     1.1599 Accuracy: 0.524000\n",
      "Epoch 11, CIFAR-10 Batch 3:  Loss:     1.1779 Accuracy: 0.531200\n",
      "Epoch 11, CIFAR-10 Batch 4:  Loss:     1.1153 Accuracy: 0.539800\n",
      "Epoch 11, CIFAR-10 Batch 5:  Loss:     1.0787 Accuracy: 0.544800\n",
      "Epoch 12, CIFAR-10 Batch 1:  Loss:     1.2085 Accuracy: 0.537200\n",
      "Epoch 12, CIFAR-10 Batch 2:  Loss:     1.1107 Accuracy: 0.543600\n",
      "Epoch 12, CIFAR-10 Batch 3:  Loss:     1.1301 Accuracy: 0.548800\n",
      "Epoch 12, CIFAR-10 Batch 4:  Loss:     1.0897 Accuracy: 0.546800\n",
      "Epoch 12, CIFAR-10 Batch 5:  Loss:     1.0262 Accuracy: 0.554400\n",
      "Epoch 13, CIFAR-10 Batch 1:  Loss:     1.1492 Accuracy: 0.554000\n",
      "Epoch 13, CIFAR-10 Batch 2:  Loss:     1.0602 Accuracy: 0.553000\n",
      "Epoch 13, CIFAR-10 Batch 3:  Loss:     1.0817 Accuracy: 0.554600\n",
      "Epoch 13, CIFAR-10 Batch 4:  Loss:     1.0139 Accuracy: 0.564600\n",
      "Epoch 13, CIFAR-10 Batch 5:  Loss:     0.9782 Accuracy: 0.562600\n",
      "Epoch 14, CIFAR-10 Batch 1:  Loss:     1.0867 Accuracy: 0.565000\n",
      "Epoch 14, CIFAR-10 Batch 2:  Loss:     1.0141 Accuracy: 0.564200\n",
      "Epoch 14, CIFAR-10 Batch 3:  Loss:     1.0217 Accuracy: 0.567400\n",
      "Epoch 14, CIFAR-10 Batch 4:  Loss:     0.9854 Accuracy: 0.565000\n",
      "Epoch 14, CIFAR-10 Batch 5:  Loss:     0.9248 Accuracy: 0.564000\n",
      "Epoch 15, CIFAR-10 Batch 1:  Loss:     1.0407 Accuracy: 0.572800\n",
      "Epoch 15, CIFAR-10 Batch 2:  Loss:     0.9718 Accuracy: 0.573800\n",
      "Epoch 15, CIFAR-10 Batch 3:  Loss:     0.9805 Accuracy: 0.570600\n",
      "Epoch 15, CIFAR-10 Batch 4:  Loss:     0.9542 Accuracy: 0.575000\n",
      "Epoch 15, CIFAR-10 Batch 5:  Loss:     0.8890 Accuracy: 0.571400\n",
      "Epoch 16, CIFAR-10 Batch 1:  Loss:     0.9894 Accuracy: 0.580200\n",
      "Epoch 16, CIFAR-10 Batch 2:  Loss:     0.9659 Accuracy: 0.563600\n",
      "Epoch 16, CIFAR-10 Batch 3:  Loss:     0.9346 Accuracy: 0.581000\n",
      "Epoch 16, CIFAR-10 Batch 4:  Loss:     0.8913 Accuracy: 0.583200\n",
      "Epoch 16, CIFAR-10 Batch 5:  Loss:     0.8600 Accuracy: 0.581200\n",
      "Epoch 17, CIFAR-10 Batch 1:  Loss:     0.9469 Accuracy: 0.578800\n",
      "Epoch 17, CIFAR-10 Batch 2:  Loss:     0.9238 Accuracy: 0.573400\n",
      "Epoch 17, CIFAR-10 Batch 3:  Loss:     0.9127 Accuracy: 0.575600\n",
      "Epoch 17, CIFAR-10 Batch 4:  Loss:     0.8539 Accuracy: 0.586200\n",
      "Epoch 17, CIFAR-10 Batch 5:  Loss:     0.8316 Accuracy: 0.579600\n",
      "Epoch 18, CIFAR-10 Batch 1:  Loss:     0.8917 Accuracy: 0.584000\n",
      "Epoch 18, CIFAR-10 Batch 2:  Loss:     0.8857 Accuracy: 0.576400\n",
      "Epoch 18, CIFAR-10 Batch 3:  Loss:     0.8856 Accuracy: 0.574800\n",
      "Epoch 18, CIFAR-10 Batch 4:  Loss:     0.7999 Accuracy: 0.595800\n",
      "Epoch 18, CIFAR-10 Batch 5:  Loss:     0.8073 Accuracy: 0.579200\n",
      "Epoch 19, CIFAR-10 Batch 1:  Loss:     0.8434 Accuracy: 0.592600\n",
      "Epoch 19, CIFAR-10 Batch 2:  Loss:     0.8674 Accuracy: 0.563800\n",
      "Epoch 19, CIFAR-10 Batch 3:  Loss:     0.8632 Accuracy: 0.579600\n",
      "Epoch 19, CIFAR-10 Batch 4:  Loss:     0.8062 Accuracy: 0.577400\n",
      "Epoch 19, CIFAR-10 Batch 5:  Loss:     0.7769 Accuracy: 0.580400\n",
      "Epoch 20, CIFAR-10 Batch 1:  Loss:     0.8156 Accuracy: 0.596000\n",
      "Epoch 20, CIFAR-10 Batch 2:  Loss:     0.8310 Accuracy: 0.577200\n",
      "Epoch 20, CIFAR-10 Batch 3:  Loss:     0.8472 Accuracy: 0.576600\n",
      "Epoch 20, CIFAR-10 Batch 4:  Loss:     0.7807 Accuracy: 0.584800\n",
      "Epoch 20, CIFAR-10 Batch 5:  Loss:     0.7316 Accuracy: 0.587200\n",
      "Epoch 21, CIFAR-10 Batch 1:  Loss:     0.7496 Accuracy: 0.597800\n",
      "Epoch 21, CIFAR-10 Batch 2:  Loss:     0.7913 Accuracy: 0.578000\n",
      "Epoch 21, CIFAR-10 Batch 3:  Loss:     0.8027 Accuracy: 0.580400\n",
      "Epoch 21, CIFAR-10 Batch 4:  Loss:     0.7332 Accuracy: 0.594200\n",
      "Epoch 21, CIFAR-10 Batch 5:  Loss:     0.7094 Accuracy: 0.586200\n",
      "Epoch 22, CIFAR-10 Batch 1:  Loss:     0.7202 Accuracy: 0.594400\n",
      "Epoch 22, CIFAR-10 Batch 2:  Loss:     0.7838 Accuracy: 0.577000\n",
      "Epoch 22, CIFAR-10 Batch 3:  Loss:     0.7485 Accuracy: 0.591000\n",
      "Epoch 22, CIFAR-10 Batch 4:  Loss:     0.6847 Accuracy: 0.596800\n",
      "Epoch 22, CIFAR-10 Batch 5:  Loss:     0.6643 Accuracy: 0.593800\n",
      "Epoch 23, CIFAR-10 Batch 1:  Loss:     0.6525 Accuracy: 0.599000\n",
      "Epoch 23, CIFAR-10 Batch 2:  Loss:     0.7238 Accuracy: 0.584400\n",
      "Epoch 23, CIFAR-10 Batch 3:  Loss:     0.7106 Accuracy: 0.595800\n",
      "Epoch 23, CIFAR-10 Batch 4:  Loss:     0.6598 Accuracy: 0.596400\n",
      "Epoch 23, CIFAR-10 Batch 5:  Loss:     0.6451 Accuracy: 0.593000\n",
      "Epoch 24, CIFAR-10 Batch 1:  Loss:     0.6398 Accuracy: 0.597400\n",
      "Epoch 24, CIFAR-10 Batch 2:  Loss:     0.6636 Accuracy: 0.595600\n",
      "Epoch 24, CIFAR-10 Batch 3:  Loss:     0.6724 Accuracy: 0.593400\n",
      "Epoch 24, CIFAR-10 Batch 4:  Loss:     0.7027 Accuracy: 0.571200\n",
      "Epoch 24, CIFAR-10 Batch 5:  Loss:     0.5893 Accuracy: 0.594400\n",
      "Epoch 25, CIFAR-10 Batch 1:  Loss:     0.6345 Accuracy: 0.602600\n",
      "Epoch 25, CIFAR-10 Batch 2:  Loss:     0.6382 Accuracy: 0.587400\n",
      "Epoch 25, CIFAR-10 Batch 3:  Loss:     0.6694 Accuracy: 0.588200\n",
      "Epoch 25, CIFAR-10 Batch 4:  Loss:     0.6306 Accuracy: 0.585800\n",
      "Epoch 25, CIFAR-10 Batch 5:  Loss:     0.6369 Accuracy: 0.589600\n",
      "Epoch 26, CIFAR-10 Batch 1:  Loss:     0.6096 Accuracy: 0.601600\n",
      "Epoch 26, CIFAR-10 Batch 2:  Loss:     0.6215 Accuracy: 0.594200\n",
      "Epoch 26, CIFAR-10 Batch 3:  Loss:     0.6089 Accuracy: 0.600600\n",
      "Epoch 26, CIFAR-10 Batch 4:  Loss:     0.6118 Accuracy: 0.577800\n",
      "Epoch 26, CIFAR-10 Batch 5:  Loss:     0.6134 Accuracy: 0.592800\n",
      "Epoch 27, CIFAR-10 Batch 1:  Loss:     0.5886 Accuracy: 0.599000\n",
      "Epoch 27, CIFAR-10 Batch 2:  Loss:     0.6041 Accuracy: 0.585600\n",
      "Epoch 27, CIFAR-10 Batch 3:  Loss:     0.5579 Accuracy: 0.599600\n",
      "Epoch 27, CIFAR-10 Batch 4:  Loss:     0.5244 Accuracy: 0.599600\n",
      "Epoch 27, CIFAR-10 Batch 5:  Loss:     0.6009 Accuracy: 0.587600\n",
      "Epoch 28, CIFAR-10 Batch 1:  Loss:     0.5368 Accuracy: 0.602800\n",
      "Epoch 28, CIFAR-10 Batch 2:  Loss:     0.5418 Accuracy: 0.588800\n",
      "Epoch 28, CIFAR-10 Batch 3:  Loss:     0.5254 Accuracy: 0.598400\n",
      "Epoch 28, CIFAR-10 Batch 4:  Loss:     0.4795 Accuracy: 0.606600\n",
      "Epoch 28, CIFAR-10 Batch 5:  Loss:     0.5540 Accuracy: 0.588600\n",
      "Epoch 29, CIFAR-10 Batch 1:  Loss:     0.5441 Accuracy: 0.596000\n",
      "Epoch 29, CIFAR-10 Batch 2:  Loss:     0.5075 Accuracy: 0.586200\n",
      "Epoch 29, CIFAR-10 Batch 3:  Loss:     0.5067 Accuracy: 0.606800\n",
      "Epoch 29, CIFAR-10 Batch 4:  Loss:     0.4629 Accuracy: 0.598000\n",
      "Epoch 29, CIFAR-10 Batch 5:  Loss:     0.5179 Accuracy: 0.585200\n",
      "Epoch 30, CIFAR-10 Batch 1:  Loss:     0.5067 Accuracy: 0.602600\n",
      "Epoch 30, CIFAR-10 Batch 2:  Loss:     0.4880 Accuracy: 0.590000\n",
      "Epoch 30, CIFAR-10 Batch 3:  Loss:     0.4729 Accuracy: 0.605000\n",
      "Epoch 30, CIFAR-10 Batch 4:  Loss:     0.4228 Accuracy: 0.593600\n",
      "Epoch 30, CIFAR-10 Batch 5:  Loss:     0.4385 Accuracy: 0.602400\n",
      "Epoch 31, CIFAR-10 Batch 1:  Loss:     0.4596 Accuracy: 0.607000\n",
      "Epoch 31, CIFAR-10 Batch 2:  Loss:     0.4450 Accuracy: 0.598400\n",
      "Epoch 31, CIFAR-10 Batch 3:  Loss:     0.4308 Accuracy: 0.605400\n",
      "Epoch 31, CIFAR-10 Batch 4:  Loss:     0.4136 Accuracy: 0.598200\n",
      "Epoch 31, CIFAR-10 Batch 5:  Loss:     0.4096 Accuracy: 0.602600\n",
      "Epoch 32, CIFAR-10 Batch 1:  Loss:     0.4175 Accuracy: 0.602600\n",
      "Epoch 32, CIFAR-10 Batch 2:  Loss:     0.4219 Accuracy: 0.596200\n",
      "Epoch 32, CIFAR-10 Batch 3:  Loss:     0.4084 Accuracy: 0.608200\n",
      "Epoch 32, CIFAR-10 Batch 4:  Loss:     0.3793 Accuracy: 0.592400\n",
      "Epoch 32, CIFAR-10 Batch 5:  Loss:     0.3949 Accuracy: 0.596400\n",
      "Epoch 33, CIFAR-10 Batch 1:  Loss:     0.4028 Accuracy: 0.594200\n",
      "Epoch 33, CIFAR-10 Batch 2:  Loss:     0.3758 Accuracy: 0.591800\n",
      "Epoch 33, CIFAR-10 Batch 3:  Loss:     0.3827 Accuracy: 0.603600\n",
      "Epoch 33, CIFAR-10 Batch 4:  Loss:     0.3595 Accuracy: 0.597400\n",
      "Epoch 33, CIFAR-10 Batch 5:  Loss:     0.3790 Accuracy: 0.586600\n",
      "Epoch 34, CIFAR-10 Batch 1:  Loss:     0.3656 Accuracy: 0.600400\n",
      "Epoch 34, CIFAR-10 Batch 2:  Loss:     0.3534 Accuracy: 0.585000\n",
      "Epoch 34, CIFAR-10 Batch 3:  Loss:     0.3549 Accuracy: 0.607800\n",
      "Epoch 34, CIFAR-10 Batch 4:  Loss:     0.3532 Accuracy: 0.586400\n",
      "Epoch 34, CIFAR-10 Batch 5:  Loss:     0.3743 Accuracy: 0.583600\n",
      "Epoch 35, CIFAR-10 Batch 1:  Loss:     0.3533 Accuracy: 0.595800\n",
      "Epoch 35, CIFAR-10 Batch 2:  Loss:     0.3631 Accuracy: 0.581200\n",
      "Epoch 35, CIFAR-10 Batch 3:  Loss:     0.3781 Accuracy: 0.594400\n",
      "Epoch 35, CIFAR-10 Batch 4:  Loss:     0.3411 Accuracy: 0.587800\n",
      "Epoch 35, CIFAR-10 Batch 5:  Loss:     0.3593 Accuracy: 0.576600\n",
      "Epoch 36, CIFAR-10 Batch 1:  Loss:     0.4172 Accuracy: 0.577400\n",
      "Epoch 36, CIFAR-10 Batch 2:  Loss:     0.3947 Accuracy: 0.585800\n",
      "Epoch 36, CIFAR-10 Batch 3:  Loss:     0.3656 Accuracy: 0.585600\n",
      "Epoch 36, CIFAR-10 Batch 4:  Loss:     0.3206 Accuracy: 0.594200\n",
      "Epoch 36, CIFAR-10 Batch 5:  Loss:     0.3304 Accuracy: 0.597600\n",
      "Epoch 37, CIFAR-10 Batch 1:  Loss:     0.3625 Accuracy: 0.599200\n",
      "Epoch 37, CIFAR-10 Batch 2:  Loss:     0.3463 Accuracy: 0.597200\n",
      "Epoch 37, CIFAR-10 Batch 3:  Loss:     0.3301 Accuracy: 0.598600\n",
      "Epoch 37, CIFAR-10 Batch 4:  Loss:     0.3058 Accuracy: 0.582200\n",
      "Epoch 37, CIFAR-10 Batch 5:  Loss:     0.3060 Accuracy: 0.590600\n",
      "Epoch 38, CIFAR-10 Batch 1:  Loss:     0.3165 Accuracy: 0.604000\n",
      "Epoch 38, CIFAR-10 Batch 2:  Loss:     0.3545 Accuracy: 0.595600\n",
      "Epoch 38, CIFAR-10 Batch 3:  Loss:     0.3085 Accuracy: 0.610200\n",
      "Epoch 38, CIFAR-10 Batch 4:  Loss:     0.2725 Accuracy: 0.590400\n",
      "Epoch 38, CIFAR-10 Batch 5:  Loss:     0.2991 Accuracy: 0.580400\n",
      "Epoch 39, CIFAR-10 Batch 1:  Loss:     0.3299 Accuracy: 0.588000\n",
      "Epoch 39, CIFAR-10 Batch 2:  Loss:     0.3455 Accuracy: 0.588400\n",
      "Epoch 39, CIFAR-10 Batch 3:  Loss:     0.3045 Accuracy: 0.592400\n",
      "Epoch 39, CIFAR-10 Batch 4:  Loss:     0.2321 Accuracy: 0.597800\n",
      "Epoch 39, CIFAR-10 Batch 5:  Loss:     0.2844 Accuracy: 0.577200\n",
      "Epoch 40, CIFAR-10 Batch 1:  Loss:     0.3182 Accuracy: 0.581000\n",
      "Epoch 40, CIFAR-10 Batch 2:  Loss:     0.2754 Accuracy: 0.597200\n",
      "Epoch 40, CIFAR-10 Batch 3:  Loss:     0.2690 Accuracy: 0.599800\n",
      "Epoch 40, CIFAR-10 Batch 4:  Loss:     0.2112 Accuracy: 0.603000\n",
      "Epoch 40, CIFAR-10 Batch 5:  Loss:     0.2436 Accuracy: 0.582200\n",
      "Epoch 41, CIFAR-10 Batch 1:  Loss:     0.2904 Accuracy: 0.587200\n",
      "Epoch 41, CIFAR-10 Batch 2:  Loss:     0.2799 Accuracy: 0.593600\n",
      "Epoch 41, CIFAR-10 Batch 3:  Loss:     0.2554 Accuracy: 0.592000\n",
      "Epoch 41, CIFAR-10 Batch 4:  Loss:     0.2119 Accuracy: 0.604200\n",
      "Epoch 41, CIFAR-10 Batch 5:  Loss:     0.2221 Accuracy: 0.583600\n",
      "Epoch 42, CIFAR-10 Batch 1:  Loss:     0.2962 Accuracy: 0.578600\n",
      "Epoch 42, CIFAR-10 Batch 2:  Loss:     0.2777 Accuracy: 0.594600\n",
      "Epoch 42, CIFAR-10 Batch 3:  Loss:     0.2438 Accuracy: 0.594400\n",
      "Epoch 42, CIFAR-10 Batch 4:  Loss:     0.2375 Accuracy: 0.589600\n",
      "Epoch 42, CIFAR-10 Batch 5:  Loss:     0.2223 Accuracy: 0.585800\n",
      "Epoch 43, CIFAR-10 Batch 1:  Loss:     0.2519 Accuracy: 0.588800\n",
      "Epoch 43, CIFAR-10 Batch 2:  Loss:     0.2946 Accuracy: 0.581400\n",
      "Epoch 43, CIFAR-10 Batch 3:  Loss:     0.2609 Accuracy: 0.579200\n",
      "Epoch 43, CIFAR-10 Batch 4:  Loss:     0.2180 Accuracy: 0.586600\n",
      "Epoch 43, CIFAR-10 Batch 5:  Loss:     0.1911 Accuracy: 0.592000\n",
      "Epoch 44, CIFAR-10 Batch 1:  Loss:     0.2058 Accuracy: 0.591800\n",
      "Epoch 44, CIFAR-10 Batch 2:  Loss:     0.2441 Accuracy: 0.591400\n",
      "Epoch 44, CIFAR-10 Batch 3:  Loss:     0.2170 Accuracy: 0.588000\n",
      "Epoch 44, CIFAR-10 Batch 4:  Loss:     0.1816 Accuracy: 0.594000\n",
      "Epoch 44, CIFAR-10 Batch 5:  Loss:     0.1610 Accuracy: 0.589400\n",
      "Epoch 45, CIFAR-10 Batch 1:  Loss:     0.1775 Accuracy: 0.591800\n",
      "Epoch 45, CIFAR-10 Batch 2:  Loss:     0.2192 Accuracy: 0.591000\n",
      "Epoch 45, CIFAR-10 Batch 3:  Loss:     0.1838 Accuracy: 0.593200\n",
      "Epoch 45, CIFAR-10 Batch 4:  Loss:     0.1584 Accuracy: 0.603600\n",
      "Epoch 45, CIFAR-10 Batch 5:  Loss:     0.1255 Accuracy: 0.596400\n",
      "Epoch 46, CIFAR-10 Batch 1:  Loss:     0.1530 Accuracy: 0.587600\n",
      "Epoch 46, CIFAR-10 Batch 2:  Loss:     0.1944 Accuracy: 0.589400\n",
      "Epoch 46, CIFAR-10 Batch 3:  Loss:     0.1682 Accuracy: 0.589600\n",
      "Epoch 46, CIFAR-10 Batch 4:  Loss:     0.1620 Accuracy: 0.599200\n",
      "Epoch 46, CIFAR-10 Batch 5:  Loss:     0.1417 Accuracy: 0.583200\n",
      "Epoch 47, CIFAR-10 Batch 1:  Loss:     0.1548 Accuracy: 0.584600\n",
      "Epoch 47, CIFAR-10 Batch 2:  Loss:     0.1885 Accuracy: 0.590800\n",
      "Epoch 47, CIFAR-10 Batch 3:  Loss:     0.1608 Accuracy: 0.591800\n",
      "Epoch 47, CIFAR-10 Batch 4:  Loss:     0.1636 Accuracy: 0.585800\n",
      "Epoch 47, CIFAR-10 Batch 5:  Loss:     0.1395 Accuracy: 0.585400\n",
      "Epoch 48, CIFAR-10 Batch 1:  Loss:     0.1698 Accuracy: 0.582800\n",
      "Epoch 48, CIFAR-10 Batch 2:  Loss:     0.1922 Accuracy: 0.584800\n",
      "Epoch 48, CIFAR-10 Batch 3:  Loss:     0.1554 Accuracy: 0.588400\n",
      "Epoch 48, CIFAR-10 Batch 4:  Loss:     0.1365 Accuracy: 0.589200\n",
      "Epoch 48, CIFAR-10 Batch 5:  Loss:     0.1359 Accuracy: 0.583000\n",
      "Epoch 49, CIFAR-10 Batch 1:  Loss:     0.1369 Accuracy: 0.591000\n",
      "Epoch 49, CIFAR-10 Batch 2:  Loss:     0.1694 Accuracy: 0.586800\n",
      "Epoch 49, CIFAR-10 Batch 3:  Loss:     0.1549 Accuracy: 0.585800\n",
      "Epoch 49, CIFAR-10 Batch 4:  Loss:     0.1489 Accuracy: 0.578600\n",
      "Epoch 49, CIFAR-10 Batch 5:  Loss:     0.1400 Accuracy: 0.582800\n",
      "Epoch 50, CIFAR-10 Batch 1:  Loss:     0.1314 Accuracy: 0.583000\n",
      "Epoch 50, CIFAR-10 Batch 2:  Loss:     0.1637 Accuracy: 0.581800\n",
      "Epoch 50, CIFAR-10 Batch 3:  Loss:     0.1587 Accuracy: 0.571600\n",
      "Epoch 50, CIFAR-10 Batch 4:  Loss:     0.1707 Accuracy: 0.559800\n",
      "Epoch 50, CIFAR-10 Batch 5:  Loss:     0.1804 Accuracy: 0.573800\n",
      "Epoch 51, CIFAR-10 Batch 1:  Loss:     0.1542 Accuracy: 0.575800\n",
      "Epoch 51, CIFAR-10 Batch 2:  Loss:     0.1644 Accuracy: 0.587600\n",
      "Epoch 51, CIFAR-10 Batch 3:  Loss:     0.1687 Accuracy: 0.574200\n",
      "Epoch 51, CIFAR-10 Batch 4:  Loss:     0.1535 Accuracy: 0.574800\n",
      "Epoch 51, CIFAR-10 Batch 5:  Loss:     0.1450 Accuracy: 0.585800\n",
      "Epoch 52, CIFAR-10 Batch 1:  Loss:     0.1367 Accuracy: 0.591000\n",
      "Epoch 52, CIFAR-10 Batch 2:  Loss:     0.1742 Accuracy: 0.590600\n",
      "Epoch 52, CIFAR-10 Batch 3:  Loss:     0.1582 Accuracy: 0.592600\n",
      "Epoch 52, CIFAR-10 Batch 4:  Loss:     0.1469 Accuracy: 0.587000\n",
      "Epoch 52, CIFAR-10 Batch 5:  Loss:     0.1450 Accuracy: 0.580600\n",
      "Epoch 53, CIFAR-10 Batch 1:  Loss:     0.1655 Accuracy: 0.590000\n",
      "Epoch 53, CIFAR-10 Batch 2:  Loss:     0.1685 Accuracy: 0.579200\n",
      "Epoch 53, CIFAR-10 Batch 3:  Loss:     0.1467 Accuracy: 0.585600\n",
      "Epoch 53, CIFAR-10 Batch 4:  Loss:     0.1092 Accuracy: 0.594400\n",
      "Epoch 53, CIFAR-10 Batch 5:  Loss:     0.1219 Accuracy: 0.590000\n",
      "Epoch 54, CIFAR-10 Batch 1:  Loss:     0.1252 Accuracy: 0.588400\n",
      "Epoch 54, CIFAR-10 Batch 2:  Loss:     0.1497 Accuracy: 0.581800\n",
      "Epoch 54, CIFAR-10 Batch 3:  Loss:     0.1391 Accuracy: 0.584600\n",
      "Epoch 54, CIFAR-10 Batch 4:  Loss:     0.1113 Accuracy: 0.592400\n",
      "Epoch 54, CIFAR-10 Batch 5:  Loss:     0.1051 Accuracy: 0.589400\n",
      "Epoch 55, CIFAR-10 Batch 1:  Loss:     0.1437 Accuracy: 0.576400\n",
      "Epoch 55, CIFAR-10 Batch 2:  Loss:     0.1383 Accuracy: 0.580600\n",
      "Epoch 55, CIFAR-10 Batch 3:  Loss:     0.1173 Accuracy: 0.581400\n",
      "Epoch 55, CIFAR-10 Batch 4:  Loss:     0.1097 Accuracy: 0.584400\n",
      "Epoch 55, CIFAR-10 Batch 5:  Loss:     0.1045 Accuracy: 0.587400\n",
      "Epoch 56, CIFAR-10 Batch 1:  Loss:     0.1229 Accuracy: 0.585600\n",
      "Epoch 56, CIFAR-10 Batch 2:  Loss:     0.1571 Accuracy: 0.573600\n",
      "Epoch 56, CIFAR-10 Batch 3:  Loss:     0.1412 Accuracy: 0.581600\n",
      "Epoch 56, CIFAR-10 Batch 4:  Loss:     0.1405 Accuracy: 0.576200\n",
      "Epoch 56, CIFAR-10 Batch 5:  Loss:     0.1244 Accuracy: 0.579600\n",
      "Epoch 57, CIFAR-10 Batch 1:  Loss:     0.1349 Accuracy: 0.586600\n",
      "Epoch 57, CIFAR-10 Batch 2:  Loss:     0.1415 Accuracy: 0.575400\n",
      "Epoch 57, CIFAR-10 Batch 3:  Loss:     0.1108 Accuracy: 0.585200\n",
      "Epoch 57, CIFAR-10 Batch 4:  Loss:     0.0968 Accuracy: 0.593800\n",
      "Epoch 57, CIFAR-10 Batch 5:  Loss:     0.0785 Accuracy: 0.595800\n",
      "Epoch 58, CIFAR-10 Batch 1:  Loss:     0.1042 Accuracy: 0.597600\n",
      "Epoch 58, CIFAR-10 Batch 2:  Loss:     0.1232 Accuracy: 0.581600\n",
      "Epoch 58, CIFAR-10 Batch 3:  Loss:     0.1285 Accuracy: 0.584400\n",
      "Epoch 58, CIFAR-10 Batch 4:  Loss:     0.1267 Accuracy: 0.580400\n",
      "Epoch 58, CIFAR-10 Batch 5:  Loss:     0.1187 Accuracy: 0.596400\n",
      "Epoch 59, CIFAR-10 Batch 1:  Loss:     0.1112 Accuracy: 0.593400\n",
      "Epoch 59, CIFAR-10 Batch 2:  Loss:     0.1225 Accuracy: 0.589200\n",
      "Epoch 59, CIFAR-10 Batch 3:  Loss:     0.1834 Accuracy: 0.567800\n",
      "Epoch 59, CIFAR-10 Batch 4:  Loss:     0.1584 Accuracy: 0.576400\n",
      "Epoch 59, CIFAR-10 Batch 5:  Loss:     0.1088 Accuracy: 0.588400\n",
      "Epoch 60, CIFAR-10 Batch 1:  Loss:     0.0949 Accuracy: 0.605200\n",
      "Epoch 60, CIFAR-10 Batch 2:  Loss:     0.0877 Accuracy: 0.593200\n",
      "Epoch 60, CIFAR-10 Batch 3:  Loss:     0.1076 Accuracy: 0.592000\n",
      "Epoch 60, CIFAR-10 Batch 4:  Loss:     0.1095 Accuracy: 0.579200\n",
      "Epoch 60, CIFAR-10 Batch 5:  Loss:     0.0716 Accuracy: 0.592200\n",
      "Epoch 61, CIFAR-10 Batch 1:  Loss:     0.0711 Accuracy: 0.596800\n",
      "Epoch 61, CIFAR-10 Batch 2:  Loss:     0.0880 Accuracy: 0.588400\n",
      "Epoch 61, CIFAR-10 Batch 3:  Loss:     0.1052 Accuracy: 0.590000\n",
      "Epoch 61, CIFAR-10 Batch 4:  Loss:     0.1003 Accuracy: 0.582400\n",
      "Epoch 61, CIFAR-10 Batch 5:  Loss:     0.0780 Accuracy: 0.582600\n",
      "Epoch 62, CIFAR-10 Batch 1:  Loss:     0.0680 Accuracy: 0.584400\n",
      "Epoch 62, CIFAR-10 Batch 2:  Loss:     0.0812 Accuracy: 0.583000\n",
      "Epoch 62, CIFAR-10 Batch 3:  Loss:     0.0921 Accuracy: 0.590000\n",
      "Epoch 62, CIFAR-10 Batch 4:  Loss:     0.0798 Accuracy: 0.587200\n",
      "Epoch 62, CIFAR-10 Batch 5:  Loss:     0.0766 Accuracy: 0.578800\n",
      "Epoch 63, CIFAR-10 Batch 1:  Loss:     0.0714 Accuracy: 0.587000\n",
      "Epoch 63, CIFAR-10 Batch 2:  Loss:     0.0753 Accuracy: 0.588200\n",
      "Epoch 63, CIFAR-10 Batch 3:  Loss:     0.0740 Accuracy: 0.594200\n",
      "Epoch 63, CIFAR-10 Batch 4:  Loss:     0.0674 Accuracy: 0.590000\n",
      "Epoch 63, CIFAR-10 Batch 5:  Loss:     0.0473 Accuracy: 0.587600\n",
      "Epoch 64, CIFAR-10 Batch 1:  Loss:     0.0627 Accuracy: 0.593400\n",
      "Epoch 64, CIFAR-10 Batch 2:  Loss:     0.0646 Accuracy: 0.586000\n",
      "Epoch 64, CIFAR-10 Batch 3:  Loss:     0.0723 Accuracy: 0.584800\n",
      "Epoch 64, CIFAR-10 Batch 4:  Loss:     0.0705 Accuracy: 0.584200\n",
      "Epoch 64, CIFAR-10 Batch 5:  Loss:     0.0519 Accuracy: 0.585200\n"
     ]
    }
   ],
   "source": [
    "\"\"\"\n",
    "DON'T MODIFY ANYTHING IN THIS CELL\n",
    "\"\"\"\n",
    "save_model_path = './image_classification'\n",
    "\n",
    "print('Training...')\n",
    "with tf.Session() as sess:\n",
    "    # Initializing the variables\n",
    "    sess.run(tf.global_variables_initializer())\n",
    "    \n",
    "    # Training cycle\n",
    "    for epoch in range(epochs):\n",
    "        # Loop over all batches\n",
    "        n_batches = 5\n",
    "        for batch_i in range(1, n_batches + 1):\n",
    "            for batch_features, batch_labels in helper.load_preprocess_training_batch(batch_i, batch_size):\n",
    "                train_neural_network(sess, optimizer, keep_probability, batch_features, batch_labels)\n",
    "            print('Epoch {:>2}, CIFAR-10 Batch {}:  '.format(epoch + 1, batch_i), end='')\n",
    "            print_stats(sess, batch_features, batch_labels, cost, accuracy)\n",
    "            \n",
    "    # Save Model\n",
    "    saver = tf.train.Saver()\n",
    "    save_path = saver.save(sess, save_model_path)"
   ]
  },
  {
   "cell_type": "markdown",
   "metadata": {
    "deletable": true,
    "editable": true
   },
   "source": [
    "# Checkpoint\n",
    "The model has been saved to disk.\n",
    "## Test Model\n",
    "Test your model against the test dataset.  This will be your final accuracy. You should have an accuracy greater than 50%. If you don't, keep tweaking the model architecture and parameters."
   ]
  },
  {
   "cell_type": "code",
   "execution_count": 201,
   "metadata": {
    "collapsed": false,
    "deletable": true,
    "editable": true
   },
   "outputs": [
    {
     "name": "stdout",
     "output_type": "stream",
     "text": [
      "Testing Accuracy: 0.6379284918308258\n",
      "\n"
     ]
    },
    {
     "data": {
      "image/png": "[encoded data removed]",
      "text/plain": [
       "<matplotlib.figure.Figure at 0x253ec263898>"
      ]
     },
     "metadata": {
      "image/png": {
       "height": 319,
       "width": 355
      }
     },
     "output_type": "display_data"
    }
   ],
   "source": [
    "\"\"\"\n",
    "DON'T MODIFY ANYTHING IN THIS CELL\n",
    "\"\"\"\n",
    "%matplotlib inline\n",
    "%config InlineBackend.figure_format = 'retina'\n",
    "\n",
    "import tensorflow as tf\n",
    "import pickle\n",
    "import helper\n",
    "import random\n",
    "\n",
    "# Set batch size if not already set\n",
    "try:\n",
    "    if batch_size:\n",
    "        pass\n",
    "except NameError:\n",
    "    batch_size = 64\n",
    "\n",
    "save_model_path = './image_classification'\n",
    "n_samples = 4\n",
    "top_n_predictions = 3\n",
    "\n",
    "def test_model():\n",
    "    \"\"\"\n",
    "    Test the saved model against the test dataset\n",
    "    \"\"\"\n",
    "\n",
    "    test_features, test_labels = pickle.load(open('preprocess_training.p', mode='rb'))\n",
    "    loaded_graph = tf.Graph()\n",
    "\n",
    "    with tf.Session(graph=loaded_graph) as sess:\n",
    "        # Load model\n",
    "        loader = tf.train.import_meta_graph(save_model_path + '.meta')\n",
    "        loader.restore(sess, save_model_path)\n",
    "\n",
    "        # Get Tensors from loaded model\n",
    "        loaded_x = loaded_graph.get_tensor_by_name('x:0')\n",
    "        loaded_y = loaded_graph.get_tensor_by_name('y:0')\n",
    "        loaded_keep_prob = loaded_graph.get_tensor_by_name('keep_prob:0')\n",
    "        loaded_logits = loaded_graph.get_tensor_by_name('logits:0')\n",
    "        loaded_acc = loaded_graph.get_tensor_by_name('accuracy:0')\n",
    "        \n",
    "        # Get accuracy in batches for memory limitations\n",
    "        test_batch_acc_total = 0\n",
    "        test_batch_count = 0\n",
    "        \n",
    "        for test_feature_batch, test_label_batch in helper.batch_features_labels(test_features, test_labels, batch_size):\n",
    "            test_batch_acc_total += sess.run(\n",
    "                loaded_acc,\n",
    "                feed_dict={loaded_x: test_feature_batch, loaded_y: test_label_batch, loaded_keep_prob: 1.0})\n",
    "            test_batch_count += 1\n",
    "\n",
    "        print('Testing Accuracy: {}\\n'.format(test_batch_acc_total/test_batch_count))\n",
    "\n",
    "        # Print Random Samples\n",
    "        random_test_features, random_test_labels = tuple(zip(*random.sample(list(zip(test_features, test_labels)), n_samples)))\n",
    "        random_test_predictions = sess.run(\n",
    "            tf.nn.top_k(tf.nn.softmax(loaded_logits), top_n_predictions),\n",
    "            feed_dict={loaded_x: random_test_features, loaded_y: random_test_labels, loaded_keep_prob: 1.0})\n",
    "        helper.display_image_predictions(random_test_features, random_test_labels, random_test_predictions)\n",
    "\n",
    "\n",
    "test_model()"
   ]
  },
  {
   "cell_type": "markdown",
   "metadata": {
    "deletable": true,
    "editable": true
   },
   "source": [
    "## Why 50-80% Accuracy?\n",
    "You might be wondering why you can't get an accuracy any higher. First things first, 50% isn't bad for a simple CNN.  Pure guessing would get you 10% accuracy. However, you might notice people are getting scores [well above 80%](http://rodrigob.github.io/are_we_there_yet/build/classification_datasets_results.html#43494641522d3130).  That's because we haven't taught you all there is to know about neural networks. We still need to cover a few more techniques.\n",
    "## Submitting This Project\n",
    "When submitting this project, make sure to run all the cells before saving the notebook.  Save the notebook file as \"dlnd_image_classification.ipynb\" and save it as a HTML file under \"File\" -> \"Download as\".  Include the \"helper.py\" and \"problem_unittests.py\" files in your submission."
   ]
  }
 ],
 "metadata": {
  "anaconda-cloud": {},
  "kernelspec": {
   "display_name": "Python 3",
   "language": "python",
   "name": "python3"
  },
  "language_info": {
   "codemirror_mode": {
    "name": "ipython",
    "version": 3
   },
   "file_extension": ".py",
   "mimetype": "text/x-python",
   "name": "python",
   "nbconvert_exporter": "python",
   "pygments_lexer": "ipython3",
   "version": "3.5.3"
  },
  "widgets": {
   "state": {},
   "version": "1.1.2"
  }
 },
 "nbformat": 4,
 "nbformat_minor": 0
}
